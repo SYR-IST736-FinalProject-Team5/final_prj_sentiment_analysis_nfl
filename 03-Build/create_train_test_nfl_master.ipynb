{
 "cells": [
  {
   "cell_type": "markdown",
   "metadata": {},
   "source": [
    "Author: Ryan Timbrook (RTIMBROO)  \n",
    "DATE: 12/3/2019 <br>\n",
    "Topic: \n",
    "\n",
    "## 1. Objective:\n",
    "-----------------------------------------------------------------------------------------------------"
   ]
  },
  {
   "cell_type": "code",
   "execution_count": 9,
   "metadata": {},
   "outputs": [],
   "source": [
    "import pandas as pd\n",
    "import numpy as np\n",
    "import json\n",
    "import os\n",
    "from os import path\n",
    "import fnmatch\n",
    "import io\n",
    "import re\n",
    "import string\n",
    "from datetime import date\n",
    "from datetime import time\n",
    "from datetime import datetime\n",
    "\n",
    "import seaborn as sns"
   ]
  },
  {
   "cell_type": "code",
   "execution_count": 2,
   "metadata": {},
   "outputs": [],
   "source": [
    "# custome python packages\n",
    "import rtimbroo_utils as br  "
   ]
  },
  {
   "cell_type": "code",
   "execution_count": 3,
   "metadata": {},
   "outputs": [],
   "source": [
    "# set global properties\n",
    "notebook_file_name = 'train_tweets_master'\n",
    "report_file_name = 'train_tweets_master'\n",
    "app_name = 'train_tweets_master'\n",
    "log_level = 10 # 10-DEBUG, 20-INFO, 30-WARNING, 40-ERROR, 50-CRITICAL\n",
    "\n",
    "# setup working directory structure\n",
    "# set global properties\n",
    "dataDir = './data/train'\n",
    "logOutDir = './logs'\n",
    "imageDir = './images'\n",
    "\n",
    "# create base output directories if they don't exist\n",
    "if not os.path.exists(logOutDir): os.mkdir(logOutDir)\n",
    "if not os.path.exists(imageDir): os.mkdir(imageDir)\n",
    "if not os.path.exists(dataDir): os.mkdir(dataDir)"
   ]
  },
  {
   "cell_type": "code",
   "execution_count": 4,
   "metadata": {},
   "outputs": [],
   "source": [
    "# get a logger for troubleshooting / data exploration\n",
    "logger = br.getFileLogger(logOutDir+'/',app_name,level=log_level)"
   ]
  },
  {
   "cell_type": "code",
   "execution_count": 5,
   "metadata": {},
   "outputs": [],
   "source": [
    "nfl_tweets_master = pd.read_csv(f'{dataDir}/nfl_tweets_master.csv', encoding='latin')\n",
    "train_tweets_master = pd.read_csv(f'{dataDir}/train_tweets_master.csv', encoding='latin')\n"
   ]
  },
  {
   "cell_type": "code",
   "execution_count": 6,
   "metadata": {},
   "outputs": [
    {
     "name": "stderr",
     "output_type": "stream",
     "text": [
      "(10148, 13)\n"
     ]
    },
    {
     "data": {
      "text/html": [
       "<div>\n",
       "<style scoped>\n",
       "    .dataframe tbody tr th:only-of-type {\n",
       "        vertical-align: middle;\n",
       "    }\n",
       "\n",
       "    .dataframe tbody tr th {\n",
       "        vertical-align: top;\n",
       "    }\n",
       "\n",
       "    .dataframe thead th {\n",
       "        text-align: right;\n",
       "    }\n",
       "</style>\n",
       "<table border=\"1\" class=\"dataframe\">\n",
       "  <thead>\n",
       "    <tr style=\"text-align: right;\">\n",
       "      <th></th>\n",
       "      <th>id</th>\n",
       "      <th>created_at</th>\n",
       "      <th>date</th>\n",
       "      <th>time</th>\n",
       "      <th>user</th>\n",
       "      <th>text</th>\n",
       "      <th>favorite_count</th>\n",
       "      <th>year</th>\n",
       "      <th>month</th>\n",
       "      <th>day_of_month</th>\n",
       "      <th>day_of_week</th>\n",
       "      <th>nfl_type</th>\n",
       "      <th>nfl_schedule_wk</th>\n",
       "    </tr>\n",
       "  </thead>\n",
       "  <tbody>\n",
       "    <tr>\n",
       "      <th>0</th>\n",
       "      <td>1200925257407827968</td>\n",
       "      <td>Sat Nov 30 23:51:08 +0000 2019</td>\n",
       "      <td>2019-11-30</td>\n",
       "      <td>23:51:08</td>\n",
       "      <td>JT_Evans97</td>\n",
       "      <td>You mean the same fan experts who could see La...</td>\n",
       "      <td>28503.0</td>\n",
       "      <td>2019</td>\n",
       "      <td>11</td>\n",
       "      <td>30</td>\n",
       "      <td>5</td>\n",
       "      <td>player</td>\n",
       "      <td>13</td>\n",
       "    </tr>\n",
       "    <tr>\n",
       "      <th>1</th>\n",
       "      <td>1200924548700495872</td>\n",
       "      <td>Sat Nov 30 23:48:19 +0000 2019</td>\n",
       "      <td>2019-11-30</td>\n",
       "      <td>23:48:19</td>\n",
       "      <td>MigiziLaFern</td>\n",
       "      <td>Deshaun Watson or Sam Darnold?  WhoShouldIStart</td>\n",
       "      <td>161.0</td>\n",
       "      <td>2019</td>\n",
       "      <td>11</td>\n",
       "      <td>30</td>\n",
       "      <td>5</td>\n",
       "      <td>player</td>\n",
       "      <td>13</td>\n",
       "    </tr>\n",
       "    <tr>\n",
       "      <th>2</th>\n",
       "      <td>1200922963375280129</td>\n",
       "      <td>Sat Nov 30 23:42:01 +0000 2019</td>\n",
       "      <td>2019-11-30</td>\n",
       "      <td>23:42:01</td>\n",
       "      <td>TifdanyBrooks</td>\n",
       "      <td>RT Top 5 current NFL quarterbacks   1. Tom Bra...</td>\n",
       "      <td>10198.0</td>\n",
       "      <td>2019</td>\n",
       "      <td>11</td>\n",
       "      <td>30</td>\n",
       "      <td>5</td>\n",
       "      <td>player</td>\n",
       "      <td>13</td>\n",
       "    </tr>\n",
       "    <tr>\n",
       "      <th>3</th>\n",
       "      <td>1200922228168237057</td>\n",
       "      <td>Sat Nov 30 23:39:05 +0000 2019</td>\n",
       "      <td>2019-11-30</td>\n",
       "      <td>23:39:05</td>\n",
       "      <td>Schlarb23</td>\n",
       "      <td>A NFL team I love: Browns A NFL team I like: P...</td>\n",
       "      <td>1376.0</td>\n",
       "      <td>2019</td>\n",
       "      <td>11</td>\n",
       "      <td>30</td>\n",
       "      <td>5</td>\n",
       "      <td>player</td>\n",
       "      <td>13</td>\n",
       "    </tr>\n",
       "    <tr>\n",
       "      <th>4</th>\n",
       "      <td>1200922016636948481</td>\n",
       "      <td>Sat Nov 30 23:38:15 +0000 2019</td>\n",
       "      <td>2019-11-30</td>\n",
       "      <td>23:38:15</td>\n",
       "      <td>JoeZo88</td>\n",
       "      <td>Deshaun Watson</td>\n",
       "      <td>85828.0</td>\n",
       "      <td>2019</td>\n",
       "      <td>11</td>\n",
       "      <td>30</td>\n",
       "      <td>5</td>\n",
       "      <td>player</td>\n",
       "      <td>13</td>\n",
       "    </tr>\n",
       "  </tbody>\n",
       "</table>\n",
       "</div>"
      ],
      "text/plain": [
       "                    id                      created_at        date      time  \\\n",
       "0  1200925257407827968  Sat Nov 30 23:51:08 +0000 2019  2019-11-30  23:51:08   \n",
       "1  1200924548700495872  Sat Nov 30 23:48:19 +0000 2019  2019-11-30  23:48:19   \n",
       "2  1200922963375280129  Sat Nov 30 23:42:01 +0000 2019  2019-11-30  23:42:01   \n",
       "3  1200922228168237057  Sat Nov 30 23:39:05 +0000 2019  2019-11-30  23:39:05   \n",
       "4  1200922016636948481  Sat Nov 30 23:38:15 +0000 2019  2019-11-30  23:38:15   \n",
       "\n",
       "            user                                               text  \\\n",
       "0     JT_Evans97  You mean the same fan experts who could see La...   \n",
       "1   MigiziLaFern    Deshaun Watson or Sam Darnold?  WhoShouldIStart   \n",
       "2  TifdanyBrooks  RT Top 5 current NFL quarterbacks   1. Tom Bra...   \n",
       "3      Schlarb23  A NFL team I love: Browns A NFL team I like: P...   \n",
       "4        JoeZo88                                     Deshaun Watson   \n",
       "\n",
       "   favorite_count  year  month  day_of_month  day_of_week nfl_type  \\\n",
       "0         28503.0  2019     11            30            5   player   \n",
       "1           161.0  2019     11            30            5   player   \n",
       "2         10198.0  2019     11            30            5   player   \n",
       "3          1376.0  2019     11            30            5   player   \n",
       "4         85828.0  2019     11            30            5   player   \n",
       "\n",
       "   nfl_schedule_wk  \n",
       "0               13  \n",
       "1               13  \n",
       "2               13  \n",
       "3               13  \n",
       "4               13  "
      ]
     },
     "execution_count": 6,
     "metadata": {},
     "output_type": "execute_result"
    }
   ],
   "source": [
    "logger.info(f'{nfl_tweets_master.shape}')\n",
    "nfl_tweets_master.head()"
   ]
  },
  {
   "cell_type": "markdown",
   "metadata": {},
   "source": [
    "# 1. Create Training / Test Sets from NFL Tweet Data"
   ]
  },
  {
   "cell_type": "markdown",
   "metadata": {},
   "source": [
    "## PLAYER"
   ]
  },
  {
   "cell_type": "code",
   "execution_count": 7,
   "metadata": {},
   "outputs": [
    {
     "data": {
      "text/plain": [
       "(4933, 13)"
      ]
     },
     "execution_count": 7,
     "metadata": {},
     "output_type": "execute_result"
    }
   ],
   "source": [
    "players_df = nfl_tweets_master[nfl_tweets_master['nfl_type'] == 'player']\n",
    "players_df.shape"
   ]
  },
  {
   "cell_type": "code",
   "execution_count": 11,
   "metadata": {},
   "outputs": [
    {
     "data": {
      "text/plain": [
       "array([ 1,  2,  3,  4,  5,  6,  7,  8,  9, 10, 11, 12, 13], dtype=int64)"
      ]
     },
     "execution_count": 11,
     "metadata": {},
     "output_type": "execute_result"
    }
   ],
   "source": [
    "np.unique(players_df['nfl_schedule_wk'])"
   ]
  },
  {
   "cell_type": "code",
   "execution_count": 14,
   "metadata": {},
   "outputs": [
    {
     "data": {
      "image/png": "[encoded data removed]",
      "text/plain": [
       "<Figure size 432x288 with 1 Axes>"
      ]
     },
     "metadata": {
      "needs_background": "light"
     },
     "output_type": "display_data"
    }
   ],
   "source": [
    "sns.countplot(x='nfl_schedule_wk', data=players_df);"
   ]
  },
  {
   "cell_type": "code",
   "execution_count": 25,
   "metadata": {},
   "outputs": [],
   "source": [
    "# get a random sampling of the dataset for training / hold out testing\n",
    "train_players = players_df.sample(frac=0.7, replace=False, random_state=42)\n",
    "test_players = pd.concat([players_df,train_players]).loc[players_df.index.symmetric_difference(train_players.index)]"
   ]
  },
  {
   "cell_type": "code",
   "execution_count": 26,
   "metadata": {},
   "outputs": [
    {
     "name": "stderr",
     "output_type": "stream",
     "text": [
      "train_players.shape: (3453, 13)\n",
      "players_df.shape: (4933, 13)\n",
      "test_players.shape: (1480, 13)\n"
     ]
    }
   ],
   "source": [
    "logger.info(f'train_players.shape: {train_players.shape}')\n",
    "logger.info(f'players_df.shape: {players_df.shape}')\n",
    "logger.info(f'test_players.shape: {test_players.shape}')"
   ]
  },
  {
   "cell_type": "code",
   "execution_count": 20,
   "metadata": {},
   "outputs": [
    {
     "data": {
      "image/png": "[encoded data removed]",
      "text/plain": [
       "<Figure size 432x288 with 1 Axes>"
      ]
     },
     "metadata": {
      "needs_background": "light"
     },
     "output_type": "display_data"
    }
   ],
   "source": [
    "sns.countplot(x='nfl_schedule_wk', data=train_players);"
   ]
  },
  {
   "cell_type": "code",
   "execution_count": 27,
   "metadata": {},
   "outputs": [
    {
     "data": {
      "image/png": "[encoded data removed]",
      "text/plain": [
       "<Figure size 432x288 with 1 Axes>"
      ]
     },
     "metadata": {
      "needs_background": "light"
     },
     "output_type": "display_data"
    }
   ],
   "source": [
    "sns.countplot(x='nfl_schedule_wk', data=test_players);"
   ]
  },
  {
   "cell_type": "markdown",
   "metadata": {},
   "source": [
    "### COACH"
   ]
  },
  {
   "cell_type": "code",
   "execution_count": 28,
   "metadata": {},
   "outputs": [
    {
     "data": {
      "text/plain": [
       "(289, 13)"
      ]
     },
     "execution_count": 28,
     "metadata": {},
     "output_type": "execute_result"
    }
   ],
   "source": [
    "coach_df = nfl_tweets_master[nfl_tweets_master['nfl_type'] == 'coach']\n",
    "coach_df.shape"
   ]
  },
  {
   "cell_type": "code",
   "execution_count": 29,
   "metadata": {},
   "outputs": [
    {
     "data": {
      "text/plain": [
       "array([ 1,  2,  3,  5,  6,  7,  8,  9, 10, 11, 12, 13], dtype=int64)"
      ]
     },
     "execution_count": 29,
     "metadata": {},
     "output_type": "execute_result"
    }
   ],
   "source": [
    "np.unique(coach_df['nfl_schedule_wk'])"
   ]
  },
  {
   "cell_type": "code",
   "execution_count": 30,
   "metadata": {},
   "outputs": [
    {
     "data": {
      "image/png": "[encoded data removed]",
      "text/plain": [
       "<Figure size 432x288 with 1 Axes>"
      ]
     },
     "metadata": {
      "needs_background": "light"
     },
     "output_type": "display_data"
    }
   ],
   "source": [
    "sns.countplot(x='nfl_schedule_wk', data=coach_df);"
   ]
  },
  {
   "cell_type": "code",
   "execution_count": 31,
   "metadata": {},
   "outputs": [],
   "source": [
    "# get a random sampling of the dataset for training / hold out testing\n",
    "train_coaches = coach_df.sample(frac=0.7, replace=False, random_state=42)\n",
    "test_coaches = pd.concat([coach_df,train_coaches]).loc[coach_df.index.symmetric_difference(train_coaches.index)]"
   ]
  },
  {
   "cell_type": "code",
   "execution_count": 32,
   "metadata": {},
   "outputs": [
    {
     "name": "stderr",
     "output_type": "stream",
     "text": [
      "coach_df.shape: (289, 13)\n",
      "train_coaches.shape: (202, 13)\n",
      "test_coaches.shape: (87, 13)\n"
     ]
    }
   ],
   "source": [
    "logger.info(f'coach_df.shape: {coach_df.shape}')\n",
    "logger.info(f'train_coaches.shape: {train_coaches.shape}')\n",
    "logger.info(f'test_coaches.shape: {test_coaches.shape}')"
   ]
  },
  {
   "cell_type": "code",
   "execution_count": 33,
   "metadata": {},
   "outputs": [
    {
     "data": {
      "image/png": "[encoded data removed]",
      "text/plain": [
       "<Figure size 432x288 with 1 Axes>"
      ]
     },
     "metadata": {
      "needs_background": "light"
     },
     "output_type": "display_data"
    }
   ],
   "source": [
    "sns.countplot(x='nfl_schedule_wk', data=train_coaches);"
   ]
  },
  {
   "cell_type": "code",
   "execution_count": 34,
   "metadata": {},
   "outputs": [
    {
     "data": {
      "image/png": "[encoded data removed]",
      "text/plain": [
       "<Figure size 432x288 with 1 Axes>"
      ]
     },
     "metadata": {
      "needs_background": "light"
     },
     "output_type": "display_data"
    }
   ],
   "source": [
    "sns.countplot(x='nfl_schedule_wk', data=test_coaches);"
   ]
  },
  {
   "cell_type": "markdown",
   "metadata": {},
   "source": [
    "### TEAM"
   ]
  },
  {
   "cell_type": "code",
   "execution_count": 35,
   "metadata": {},
   "outputs": [
    {
     "data": {
      "text/plain": [
       "(4926, 13)"
      ]
     },
     "execution_count": 35,
     "metadata": {},
     "output_type": "execute_result"
    }
   ],
   "source": [
    "team_df = nfl_tweets_master[nfl_tweets_master['nfl_type'] == 'team']\n",
    "team_df.shape"
   ]
  },
  {
   "cell_type": "code",
   "execution_count": 36,
   "metadata": {},
   "outputs": [
    {
     "data": {
      "text/plain": [
       "array([ 1,  2,  3,  4,  5,  6,  7,  8,  9, 10, 11, 12, 13], dtype=int64)"
      ]
     },
     "execution_count": 36,
     "metadata": {},
     "output_type": "execute_result"
    }
   ],
   "source": [
    "np.unique(team_df['nfl_schedule_wk'])"
   ]
  },
  {
   "cell_type": "code",
   "execution_count": 37,
   "metadata": {},
   "outputs": [
    {
     "data": {
      "image/png": "[encoded data removed]",
      "text/plain": [
       "<Figure size 432x288 with 1 Axes>"
      ]
     },
     "metadata": {
      "needs_background": "light"
     },
     "output_type": "display_data"
    }
   ],
   "source": [
    "sns.countplot(x='nfl_schedule_wk', data=team_df);"
   ]
  },
  {
   "cell_type": "code",
   "execution_count": 38,
   "metadata": {},
   "outputs": [],
   "source": [
    "# get a random sampling of the dataset for training / hold out testing\n",
    "train_team = team_df.sample(frac=0.7, replace=False, random_state=42)\n",
    "test_team = pd.concat([team_df,train_team]).loc[team_df.index.symmetric_difference(train_team.index)]"
   ]
  },
  {
   "cell_type": "code",
   "execution_count": 39,
   "metadata": {},
   "outputs": [
    {
     "name": "stderr",
     "output_type": "stream",
     "text": [
      "team_df.shape: (4926, 13)\n",
      "train_team.shape: (3448, 13)\n",
      "test_team.shape: (1478, 13)\n"
     ]
    }
   ],
   "source": [
    "logger.info(f'team_df.shape: {team_df.shape}')\n",
    "logger.info(f'train_team.shape: {train_team.shape}')\n",
    "logger.info(f'test_team.shape: {test_team.shape}')"
   ]
  },
  {
   "cell_type": "code",
   "execution_count": 40,
   "metadata": {},
   "outputs": [
    {
     "data": {
      "image/png": "[encoded data removed]",
      "text/plain": [
       "<Figure size 432x288 with 1 Axes>"
      ]
     },
     "metadata": {
      "needs_background": "light"
     },
     "output_type": "display_data"
    }
   ],
   "source": [
    "sns.countplot(x='nfl_schedule_wk', data=train_team);"
   ]
  },
  {
   "cell_type": "code",
   "execution_count": 41,
   "metadata": {},
   "outputs": [
    {
     "data": {
      "image/png": "[encoded data removed]",
      "text/plain": [
       "<Figure size 432x288 with 1 Axes>"
      ]
     },
     "metadata": {
      "needs_background": "light"
     },
     "output_type": "display_data"
    }
   ],
   "source": [
    "sns.countplot(x='nfl_schedule_wk', data=test_team);"
   ]
  },
  {
   "cell_type": "markdown",
   "metadata": {},
   "source": [
    "### Subset train / test to key attributes\n",
    "id and text"
   ]
  },
  {
   "cell_type": "code",
   "execution_count": 42,
   "metadata": {},
   "outputs": [],
   "source": [
    "# training data frames\n",
    "train_players = train_players[['id', 'text']]\n",
    "train_team = train_team[['id', 'text']]\n",
    "train_coaches = train_coaches[['id', 'text']]\n",
    "\n",
    "# testing data frames\n",
    "test_players = test_players[['id', 'text']]\n",
    "test_team = test_team[['id', 'text']]\n",
    "test_coaches = test_coaches[['id', 'text']]"
   ]
  },
  {
   "cell_type": "markdown",
   "metadata": {},
   "source": [
    "# 2. Merge NFL Train / Test Subtypes"
   ]
  },
  {
   "cell_type": "code",
   "execution_count": 43,
   "metadata": {},
   "outputs": [],
   "source": [
    "train_nfl_master_df = pd.DataFrame()\n",
    "\n",
    "train_nfl_master_df = train_nfl_master_df.append(train_players, ignore_index=True)\n",
    "train_nfl_master_df = train_nfl_master_df.append(train_team, ignore_index=True)\n",
    "train_nfl_master_df = train_nfl_master_df.append(train_coaches, ignore_index=True)"
   ]
  },
  {
   "cell_type": "code",
   "execution_count": 44,
   "metadata": {},
   "outputs": [],
   "source": [
    "test_nfl_master_df = pd.DataFrame()\n",
    "\n",
    "test_nfl_master_df = test_nfl_master_df.append(test_players, ignore_index=True)\n",
    "test_nfl_master_df = test_nfl_master_df.append(test_team, ignore_index=True)\n",
    "test_nfl_master_df = test_nfl_master_df.append(test_coaches, ignore_index=True)"
   ]
  },
  {
   "cell_type": "code",
   "execution_count": 45,
   "metadata": {},
   "outputs": [
    {
     "name": "stderr",
     "output_type": "stream",
     "text": [
      "train_nfl_master_df.shape: (7103, 2)\n",
      "test_nfl_master_df.shape: (3045, 2)\n"
     ]
    }
   ],
   "source": [
    "logger.info(f'train_nfl_master_df.shape: {train_nfl_master_df.shape}')\n",
    "logger.info(f'test_nfl_master_df.shape: {test_nfl_master_df.shape}')"
   ]
  },
  {
   "cell_type": "markdown",
   "metadata": {},
   "source": [
    "## Write New Training Data Set to File"
   ]
  },
  {
   "cell_type": "code",
   "execution_count": 46,
   "metadata": {},
   "outputs": [],
   "source": [
    "train_nfl_master_df.to_csv(f'{dataDir}/train_nfl_master.csv', index=False)\n",
    "test_nfl_master_df.to_csv(f'{dataDir}/test_nfl_master.csv', index=False)"
   ]
  },
  {
   "cell_type": "code",
   "execution_count": 47,
   "metadata": {},
   "outputs": [
    {
     "name": "stderr",
     "output_type": "stream",
     "text": [
      "nfl_master2_df.shape: (10148, 2)\n"
     ]
    }
   ],
   "source": [
    "# pull back together - this was to soon....\n",
    "nfl_master2_df = pd.DataFrame()\n",
    "\n",
    "nfl_master2_df = nfl_master2_df.append(train_nfl_master_df, ignore_index=True)\n",
    "nfl_master2_df = nfl_master2_df.append(test_nfl_master_df, ignore_index=True)\n",
    "logger.info(f'nfl_master2_df.shape: {nfl_master2_df.shape}')"
   ]
  },
  {
   "cell_type": "code",
   "execution_count": 48,
   "metadata": {},
   "outputs": [],
   "source": [
    "nfl_master2_df.to_csv(f'{dataDir}/nfl_master2_df.csv', index=False)"
   ]
  }
 ],
 "metadata": {
  "kernelspec": {
   "display_name": "Python 3",
   "language": "python",
   "name": "python3"
  },
  "language_info": {
   "codemirror_mode": {
    "name": "ipython",
    "version": 3
   },
   "file_extension": ".py",
   "mimetype": "text/x-python",
   "name": "python",
   "nbconvert_exporter": "python",
   "pygments_lexer": "ipython3",
   "version": "3.7.3"
  }
 },
 "nbformat": 4,
 "nbformat_minor": 2
}
